{
 "cells": [
  {
   "cell_type": "markdown",
   "id": "4d014827-be30-4f34-bc08-d50dd1725eac",
   "metadata": {},
   "source": [
    "# Data Science Ecosystem"
   ]
  },
  {
   "cell_type": "markdown",
   "id": "9f145f23-d4b3-4c08-b27e-666df7ebee92",
   "metadata": {},
   "source": [
    "In this notebook, Data Scinece Tools and Ecosystems are summarized"
   ]
  },
  {
   "cell_type": "markdown",
   "id": "a0208b2b-4adf-4732-9b0a-f2cbffa6989c",
   "metadata": {},
   "source": [
    "**Objectives:**\n",
    "- List popular langagues for Data Science\n",
    "- Explain the comonly used libraries\n",
    "- Understand basic data visualization techeniques\n",
    "- Learn how to use Jupyter Noteboook for coding "
   ]
  },
  {
   "cell_type": "markdown",
   "id": "eced965d-c3c2-4282-940a-c796ace8a8fd",
   "metadata": {},
   "source": [
    "Some of the popular languages that Data Scientist use are:\n",
    "- Python\n",
    "- R\n",
    "- Java\n",
    "- SQL"
   ]
  },
  {
   "cell_type": "markdown",
   "id": "406db710-78e6-4613-8ee6-9a49d6cf57a8",
   "metadata": {},
   "source": [
    "Some of the commonly used libriaries used by Data Sceientists include:\n",
    "- Pandas\n",
    "- Tensorflow\n",
    "- Matplotlib\n",
    "- Numpy"
   ]
  },
  {
   "cell_type": "markdown",
   "id": "7ac4490f-ddd9-40e4-9b05-15a8b0446250",
   "metadata": {},
   "source": [
    "### Below are a few examples of evaluating arithmetic expressions in Python"
   ]
  },
  {
   "cell_type": "code",
   "execution_count": 1,
   "id": "98ed8978-7f0c-4fef-bff2-e4a234ec66c3",
   "metadata": {},
   "outputs": [
    {
     "data": {
      "text/plain": [
       "17"
      ]
     },
     "execution_count": 1,
     "metadata": {},
     "output_type": "execute_result"
    }
   ],
   "source": [
    "(3*4)+5"
   ]
  },
  {
   "cell_type": "markdown",
   "id": "762c6d63-c55d-471f-a8fe-ed2a8cd7acc2",
   "metadata": {},
   "source": [
    "This will convert 200 minutes to hours by dividing by 60"
   ]
  },
  {
   "cell_type": "code",
   "execution_count": 2,
   "id": "e4fd2ccb-49a1-4b88-af90-20d3a05f83cc",
   "metadata": {},
   "outputs": [],
   "source": [
    "hours =200/60"
   ]
  },
  {
   "cell_type": "code",
   "execution_count": null,
   "id": "e271ba6c-5085-49e6-9a79-06776a2bac96",
   "metadata": {},
   "outputs": [],
   "source": []
  },
  {
   "cell_type": "markdown",
   "id": "e55f6405-5eec-470f-8f84-fbf08a68e9b1",
   "metadata": {},
   "source": [
    "## Author\n",
    "Jeremiah Johnson"
   ]
  }
 ],
 "metadata": {
  "kernelspec": {
   "display_name": "Python 3 (ipykernel)",
   "language": "python",
   "name": "python3"
  },
  "language_info": {
   "codemirror_mode": {
    "name": "ipython",
    "version": 3
   },
   "file_extension": ".py",
   "mimetype": "text/x-python",
   "name": "python",
   "nbconvert_exporter": "python",
   "pygments_lexer": "ipython3",
   "version": "3.12.8"
  }
 },
 "nbformat": 4,
 "nbformat_minor": 5
}
